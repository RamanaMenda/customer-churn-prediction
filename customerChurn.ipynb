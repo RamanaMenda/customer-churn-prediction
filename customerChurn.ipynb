{
 "cells": [
  {
   "cell_type": "code",
   "execution_count": 1,
   "id": "8d21ed78-6dff-4f07-9eb9-081a762c63e2",
   "metadata": {
    "tags": []
   },
   "outputs": [],
   "source": [
    "import pandas as pd\n",
    "import numpy as np\n",
    "import matplotlib.pyplot as plt"
   ]
  },
  {
   "cell_type": "code",
   "execution_count": 2,
   "id": "5d1c213d-20e0-4ec4-9178-90e62941c8ba",
   "metadata": {
    "tags": []
   },
   "outputs": [],
   "source": [
    "data = pd.read_csv('customer_churn.csv')"
   ]
  },
  {
   "cell_type": "code",
   "execution_count": 3,
   "id": "53f9f224-3b55-4e6c-8f46-13c333d809a4",
   "metadata": {
    "tags": []
   },
   "outputs": [
    {
     "data": {
      "text/html": [
       "<div>\n",
       "<style scoped>\n",
       "    .dataframe tbody tr th:only-of-type {\n",
       "        vertical-align: middle;\n",
       "    }\n",
       "\n",
       "    .dataframe tbody tr th {\n",
       "        vertical-align: top;\n",
       "    }\n",
       "\n",
       "    .dataframe thead th {\n",
       "        text-align: right;\n",
       "    }\n",
       "</style>\n",
       "<table border=\"1\" class=\"dataframe\">\n",
       "  <thead>\n",
       "    <tr style=\"text-align: right;\">\n",
       "      <th></th>\n",
       "      <th>customerID</th>\n",
       "      <th>gender</th>\n",
       "      <th>SeniorCitizen</th>\n",
       "      <th>Partner</th>\n",
       "      <th>Dependents</th>\n",
       "      <th>tenure</th>\n",
       "      <th>PhoneService</th>\n",
       "      <th>MultipleLines</th>\n",
       "      <th>InternetService</th>\n",
       "      <th>OnlineSecurity</th>\n",
       "      <th>...</th>\n",
       "      <th>DeviceProtection</th>\n",
       "      <th>TechSupport</th>\n",
       "      <th>StreamingTV</th>\n",
       "      <th>StreamingMovies</th>\n",
       "      <th>Contract</th>\n",
       "      <th>PaperlessBilling</th>\n",
       "      <th>PaymentMethod</th>\n",
       "      <th>MonthlyCharges</th>\n",
       "      <th>TotalCharges</th>\n",
       "      <th>Churn</th>\n",
       "    </tr>\n",
       "  </thead>\n",
       "  <tbody>\n",
       "    <tr>\n",
       "      <th>0</th>\n",
       "      <td>7590-VHVEG</td>\n",
       "      <td>Female</td>\n",
       "      <td>0</td>\n",
       "      <td>Yes</td>\n",
       "      <td>No</td>\n",
       "      <td>1</td>\n",
       "      <td>No</td>\n",
       "      <td>No phone service</td>\n",
       "      <td>DSL</td>\n",
       "      <td>No</td>\n",
       "      <td>...</td>\n",
       "      <td>No</td>\n",
       "      <td>No</td>\n",
       "      <td>No</td>\n",
       "      <td>No</td>\n",
       "      <td>Month-to-month</td>\n",
       "      <td>Yes</td>\n",
       "      <td>Electronic check</td>\n",
       "      <td>29.85</td>\n",
       "      <td>29.85</td>\n",
       "      <td>No</td>\n",
       "    </tr>\n",
       "    <tr>\n",
       "      <th>1</th>\n",
       "      <td>5575-GNVDE</td>\n",
       "      <td>Male</td>\n",
       "      <td>0</td>\n",
       "      <td>No</td>\n",
       "      <td>No</td>\n",
       "      <td>34</td>\n",
       "      <td>Yes</td>\n",
       "      <td>No</td>\n",
       "      <td>DSL</td>\n",
       "      <td>Yes</td>\n",
       "      <td>...</td>\n",
       "      <td>Yes</td>\n",
       "      <td>No</td>\n",
       "      <td>No</td>\n",
       "      <td>No</td>\n",
       "      <td>One year</td>\n",
       "      <td>No</td>\n",
       "      <td>Mailed check</td>\n",
       "      <td>56.95</td>\n",
       "      <td>1889.5</td>\n",
       "      <td>No</td>\n",
       "    </tr>\n",
       "    <tr>\n",
       "      <th>2</th>\n",
       "      <td>3668-QPYBK</td>\n",
       "      <td>Male</td>\n",
       "      <td>0</td>\n",
       "      <td>No</td>\n",
       "      <td>No</td>\n",
       "      <td>2</td>\n",
       "      <td>Yes</td>\n",
       "      <td>No</td>\n",
       "      <td>DSL</td>\n",
       "      <td>Yes</td>\n",
       "      <td>...</td>\n",
       "      <td>No</td>\n",
       "      <td>No</td>\n",
       "      <td>No</td>\n",
       "      <td>No</td>\n",
       "      <td>Month-to-month</td>\n",
       "      <td>Yes</td>\n",
       "      <td>Mailed check</td>\n",
       "      <td>53.85</td>\n",
       "      <td>108.15</td>\n",
       "      <td>Yes</td>\n",
       "    </tr>\n",
       "    <tr>\n",
       "      <th>3</th>\n",
       "      <td>7795-CFOCW</td>\n",
       "      <td>Male</td>\n",
       "      <td>0</td>\n",
       "      <td>No</td>\n",
       "      <td>No</td>\n",
       "      <td>45</td>\n",
       "      <td>No</td>\n",
       "      <td>No phone service</td>\n",
       "      <td>DSL</td>\n",
       "      <td>Yes</td>\n",
       "      <td>...</td>\n",
       "      <td>Yes</td>\n",
       "      <td>Yes</td>\n",
       "      <td>No</td>\n",
       "      <td>No</td>\n",
       "      <td>One year</td>\n",
       "      <td>No</td>\n",
       "      <td>Bank transfer (automatic)</td>\n",
       "      <td>42.30</td>\n",
       "      <td>1840.75</td>\n",
       "      <td>No</td>\n",
       "    </tr>\n",
       "    <tr>\n",
       "      <th>4</th>\n",
       "      <td>9237-HQITU</td>\n",
       "      <td>Female</td>\n",
       "      <td>0</td>\n",
       "      <td>No</td>\n",
       "      <td>No</td>\n",
       "      <td>2</td>\n",
       "      <td>Yes</td>\n",
       "      <td>No</td>\n",
       "      <td>Fiber optic</td>\n",
       "      <td>No</td>\n",
       "      <td>...</td>\n",
       "      <td>No</td>\n",
       "      <td>No</td>\n",
       "      <td>No</td>\n",
       "      <td>No</td>\n",
       "      <td>Month-to-month</td>\n",
       "      <td>Yes</td>\n",
       "      <td>Electronic check</td>\n",
       "      <td>70.70</td>\n",
       "      <td>151.65</td>\n",
       "      <td>Yes</td>\n",
       "    </tr>\n",
       "    <tr>\n",
       "      <th>...</th>\n",
       "      <td>...</td>\n",
       "      <td>...</td>\n",
       "      <td>...</td>\n",
       "      <td>...</td>\n",
       "      <td>...</td>\n",
       "      <td>...</td>\n",
       "      <td>...</td>\n",
       "      <td>...</td>\n",
       "      <td>...</td>\n",
       "      <td>...</td>\n",
       "      <td>...</td>\n",
       "      <td>...</td>\n",
       "      <td>...</td>\n",
       "      <td>...</td>\n",
       "      <td>...</td>\n",
       "      <td>...</td>\n",
       "      <td>...</td>\n",
       "      <td>...</td>\n",
       "      <td>...</td>\n",
       "      <td>...</td>\n",
       "      <td>...</td>\n",
       "    </tr>\n",
       "    <tr>\n",
       "      <th>7038</th>\n",
       "      <td>6840-RESVB</td>\n",
       "      <td>Male</td>\n",
       "      <td>0</td>\n",
       "      <td>Yes</td>\n",
       "      <td>Yes</td>\n",
       "      <td>24</td>\n",
       "      <td>Yes</td>\n",
       "      <td>Yes</td>\n",
       "      <td>DSL</td>\n",
       "      <td>Yes</td>\n",
       "      <td>...</td>\n",
       "      <td>Yes</td>\n",
       "      <td>Yes</td>\n",
       "      <td>Yes</td>\n",
       "      <td>Yes</td>\n",
       "      <td>One year</td>\n",
       "      <td>Yes</td>\n",
       "      <td>Mailed check</td>\n",
       "      <td>84.80</td>\n",
       "      <td>1990.5</td>\n",
       "      <td>No</td>\n",
       "    </tr>\n",
       "    <tr>\n",
       "      <th>7039</th>\n",
       "      <td>2234-XADUH</td>\n",
       "      <td>Female</td>\n",
       "      <td>0</td>\n",
       "      <td>Yes</td>\n",
       "      <td>Yes</td>\n",
       "      <td>72</td>\n",
       "      <td>Yes</td>\n",
       "      <td>Yes</td>\n",
       "      <td>Fiber optic</td>\n",
       "      <td>No</td>\n",
       "      <td>...</td>\n",
       "      <td>Yes</td>\n",
       "      <td>No</td>\n",
       "      <td>Yes</td>\n",
       "      <td>Yes</td>\n",
       "      <td>One year</td>\n",
       "      <td>Yes</td>\n",
       "      <td>Credit card (automatic)</td>\n",
       "      <td>103.20</td>\n",
       "      <td>7362.9</td>\n",
       "      <td>No</td>\n",
       "    </tr>\n",
       "    <tr>\n",
       "      <th>7040</th>\n",
       "      <td>4801-JZAZL</td>\n",
       "      <td>Female</td>\n",
       "      <td>0</td>\n",
       "      <td>Yes</td>\n",
       "      <td>Yes</td>\n",
       "      <td>11</td>\n",
       "      <td>No</td>\n",
       "      <td>No phone service</td>\n",
       "      <td>DSL</td>\n",
       "      <td>Yes</td>\n",
       "      <td>...</td>\n",
       "      <td>No</td>\n",
       "      <td>No</td>\n",
       "      <td>No</td>\n",
       "      <td>No</td>\n",
       "      <td>Month-to-month</td>\n",
       "      <td>Yes</td>\n",
       "      <td>Electronic check</td>\n",
       "      <td>29.60</td>\n",
       "      <td>346.45</td>\n",
       "      <td>No</td>\n",
       "    </tr>\n",
       "    <tr>\n",
       "      <th>7041</th>\n",
       "      <td>8361-LTMKD</td>\n",
       "      <td>Male</td>\n",
       "      <td>1</td>\n",
       "      <td>Yes</td>\n",
       "      <td>No</td>\n",
       "      <td>4</td>\n",
       "      <td>Yes</td>\n",
       "      <td>Yes</td>\n",
       "      <td>Fiber optic</td>\n",
       "      <td>No</td>\n",
       "      <td>...</td>\n",
       "      <td>No</td>\n",
       "      <td>No</td>\n",
       "      <td>No</td>\n",
       "      <td>No</td>\n",
       "      <td>Month-to-month</td>\n",
       "      <td>Yes</td>\n",
       "      <td>Mailed check</td>\n",
       "      <td>74.40</td>\n",
       "      <td>306.6</td>\n",
       "      <td>Yes</td>\n",
       "    </tr>\n",
       "    <tr>\n",
       "      <th>7042</th>\n",
       "      <td>3186-AJIEK</td>\n",
       "      <td>Male</td>\n",
       "      <td>0</td>\n",
       "      <td>No</td>\n",
       "      <td>No</td>\n",
       "      <td>66</td>\n",
       "      <td>Yes</td>\n",
       "      <td>No</td>\n",
       "      <td>Fiber optic</td>\n",
       "      <td>Yes</td>\n",
       "      <td>...</td>\n",
       "      <td>Yes</td>\n",
       "      <td>Yes</td>\n",
       "      <td>Yes</td>\n",
       "      <td>Yes</td>\n",
       "      <td>Two year</td>\n",
       "      <td>Yes</td>\n",
       "      <td>Bank transfer (automatic)</td>\n",
       "      <td>105.65</td>\n",
       "      <td>6844.5</td>\n",
       "      <td>No</td>\n",
       "    </tr>\n",
       "  </tbody>\n",
       "</table>\n",
       "<p>7043 rows × 21 columns</p>\n",
       "</div>"
      ],
      "text/plain": [
       "      customerID  gender  SeniorCitizen Partner Dependents  tenure  \\\n",
       "0     7590-VHVEG  Female              0     Yes         No       1   \n",
       "1     5575-GNVDE    Male              0      No         No      34   \n",
       "2     3668-QPYBK    Male              0      No         No       2   \n",
       "3     7795-CFOCW    Male              0      No         No      45   \n",
       "4     9237-HQITU  Female              0      No         No       2   \n",
       "...          ...     ...            ...     ...        ...     ...   \n",
       "7038  6840-RESVB    Male              0     Yes        Yes      24   \n",
       "7039  2234-XADUH  Female              0     Yes        Yes      72   \n",
       "7040  4801-JZAZL  Female              0     Yes        Yes      11   \n",
       "7041  8361-LTMKD    Male              1     Yes         No       4   \n",
       "7042  3186-AJIEK    Male              0      No         No      66   \n",
       "\n",
       "     PhoneService     MultipleLines InternetService OnlineSecurity  ...  \\\n",
       "0              No  No phone service             DSL             No  ...   \n",
       "1             Yes                No             DSL            Yes  ...   \n",
       "2             Yes                No             DSL            Yes  ...   \n",
       "3              No  No phone service             DSL            Yes  ...   \n",
       "4             Yes                No     Fiber optic             No  ...   \n",
       "...           ...               ...             ...            ...  ...   \n",
       "7038          Yes               Yes             DSL            Yes  ...   \n",
       "7039          Yes               Yes     Fiber optic             No  ...   \n",
       "7040           No  No phone service             DSL            Yes  ...   \n",
       "7041          Yes               Yes     Fiber optic             No  ...   \n",
       "7042          Yes                No     Fiber optic            Yes  ...   \n",
       "\n",
       "     DeviceProtection TechSupport StreamingTV StreamingMovies        Contract  \\\n",
       "0                  No          No          No              No  Month-to-month   \n",
       "1                 Yes          No          No              No        One year   \n",
       "2                  No          No          No              No  Month-to-month   \n",
       "3                 Yes         Yes          No              No        One year   \n",
       "4                  No          No          No              No  Month-to-month   \n",
       "...               ...         ...         ...             ...             ...   \n",
       "7038              Yes         Yes         Yes             Yes        One year   \n",
       "7039              Yes          No         Yes             Yes        One year   \n",
       "7040               No          No          No              No  Month-to-month   \n",
       "7041               No          No          No              No  Month-to-month   \n",
       "7042              Yes         Yes         Yes             Yes        Two year   \n",
       "\n",
       "     PaperlessBilling              PaymentMethod MonthlyCharges  TotalCharges  \\\n",
       "0                 Yes           Electronic check          29.85         29.85   \n",
       "1                  No               Mailed check          56.95        1889.5   \n",
       "2                 Yes               Mailed check          53.85        108.15   \n",
       "3                  No  Bank transfer (automatic)          42.30       1840.75   \n",
       "4                 Yes           Electronic check          70.70        151.65   \n",
       "...               ...                        ...            ...           ...   \n",
       "7038              Yes               Mailed check          84.80        1990.5   \n",
       "7039              Yes    Credit card (automatic)         103.20        7362.9   \n",
       "7040              Yes           Electronic check          29.60        346.45   \n",
       "7041              Yes               Mailed check          74.40         306.6   \n",
       "7042              Yes  Bank transfer (automatic)         105.65        6844.5   \n",
       "\n",
       "     Churn  \n",
       "0       No  \n",
       "1       No  \n",
       "2      Yes  \n",
       "3       No  \n",
       "4      Yes  \n",
       "...    ...  \n",
       "7038    No  \n",
       "7039    No  \n",
       "7040    No  \n",
       "7041   Yes  \n",
       "7042    No  \n",
       "\n",
       "[7043 rows x 21 columns]"
      ]
     },
     "execution_count": 3,
     "metadata": {},
     "output_type": "execute_result"
    }
   ],
   "source": [
    "data"
   ]
  },
  {
   "cell_type": "code",
   "execution_count": 4,
   "id": "c31ed26f-114c-4cba-981f-064f4da01e2e",
   "metadata": {},
   "outputs": [],
   "source": [
    "data.drop(columns = ['customerID'], inplace=True)"
   ]
  },
  {
   "cell_type": "code",
   "execution_count": 5,
   "id": "da3a7e12-5036-4dcb-bc1f-a2299f32f121",
   "metadata": {},
   "outputs": [],
   "source": [
    "data['TotalCharges'] = pd.to_numeric(data['TotalCharges'], errors='coerce')"
   ]
  },
  {
   "cell_type": "code",
   "execution_count": 6,
   "id": "42d1e5fd-a1c9-445d-90c0-e1a2b610a91d",
   "metadata": {},
   "outputs": [],
   "source": [
    "data.dropna(subset=['TotalCharges'], inplace=True)"
   ]
  },
  {
   "cell_type": "code",
   "execution_count": 7,
   "id": "877c1e6d-80ef-4acc-aa68-840e24adfb9e",
   "metadata": {
    "tags": []
   },
   "outputs": [],
   "source": [
    "data.rename(columns = {\"Churn\": \"Class\"}, inplace=True)"
   ]
  },
  {
   "cell_type": "code",
   "execution_count": 8,
   "id": "6a22bf37-afc7-4fde-b0d1-a8fd60a0586c",
   "metadata": {
    "tags": []
   },
   "outputs": [
    {
     "name": "stdout",
     "output_type": "stream",
     "text": [
      "['No' 'Yes']\n"
     ]
    }
   ],
   "source": [
    "clss = data[\"Class\"].unique()\n",
    "print(clss)"
   ]
  },
  {
   "cell_type": "code",
   "execution_count": 9,
   "id": "295c73c6-ade5-43db-ae2c-f10cd87c4460",
   "metadata": {
    "tags": []
   },
   "outputs": [
    {
     "data": {
      "text/plain": [
       "Index(['gender', 'Partner', 'Dependents', 'PhoneService', 'MultipleLines',\n",
       "       'InternetService', 'OnlineSecurity', 'OnlineBackup', 'DeviceProtection',\n",
       "       'TechSupport', 'StreamingTV', 'StreamingMovies', 'Contract',\n",
       "       'PaperlessBilling', 'PaymentMethod', 'Class'],\n",
       "      dtype='object')"
      ]
     },
     "execution_count": 9,
     "metadata": {},
     "output_type": "execute_result"
    }
   ],
   "source": [
    "nonNumericColumns = data.select_dtypes(exclude = ['int64', 'float64'])\n",
    "nonNumericColumns.columns"
   ]
  },
  {
   "cell_type": "code",
   "execution_count": 10,
   "id": "c3b410aa-d920-4955-9fa9-1a357997525f",
   "metadata": {
    "tags": []
   },
   "outputs": [],
   "source": [
    "nonNumericColumns['SeniorCitizen'] = data['SeniorCitizen']"
   ]
  },
  {
   "cell_type": "code",
   "execution_count": 11,
   "id": "8a7e5d6f-3463-4499-aae3-979800598b3b",
   "metadata": {
    "tags": []
   },
   "outputs": [
    {
     "data": {
      "text/plain": [
       "Index(['gender', 'Partner', 'Dependents', 'PhoneService', 'MultipleLines',\n",
       "       'InternetService', 'OnlineSecurity', 'OnlineBackup', 'DeviceProtection',\n",
       "       'TechSupport', 'StreamingTV', 'StreamingMovies', 'Contract',\n",
       "       'PaperlessBilling', 'PaymentMethod', 'Class', 'SeniorCitizen'],\n",
       "      dtype='object')"
      ]
     },
     "execution_count": 11,
     "metadata": {},
     "output_type": "execute_result"
    }
   ],
   "source": [
    "nonNumericColumns.columns"
   ]
  },
  {
   "cell_type": "code",
   "execution_count": 12,
   "id": "9052163f-a1f9-40d5-a410-7facdd6ea23f",
   "metadata": {
    "tags": []
   },
   "outputs": [],
   "source": [
    "numericColumns = data.drop(columns = nonNumericColumns.columns)"
   ]
  },
  {
   "cell_type": "code",
   "execution_count": 13,
   "id": "b19b2501-48aa-4b92-a096-692a9925fbe3",
   "metadata": {
    "tags": []
   },
   "outputs": [
    {
     "data": {
      "text/plain": [
       "{'gender': {'Female': 0, 'Male': 1},\n",
       " 'Partner': {'Yes': 0, 'No': 1},\n",
       " 'Dependents': {'No': 0, 'Yes': 1},\n",
       " 'PhoneService': {'No': 0, 'Yes': 1},\n",
       " 'MultipleLines': {'No phone service': 0, 'No': 1, 'Yes': 2},\n",
       " 'InternetService': {'DSL': 0, 'Fiber optic': 1, 'No': 2},\n",
       " 'OnlineSecurity': {'No': 0, 'Yes': 1, 'No internet service': 2},\n",
       " 'OnlineBackup': {'Yes': 0, 'No': 1, 'No internet service': 2},\n",
       " 'DeviceProtection': {'No': 0, 'Yes': 1, 'No internet service': 2},\n",
       " 'TechSupport': {'No': 0, 'Yes': 1, 'No internet service': 2},\n",
       " 'StreamingTV': {'No': 0, 'Yes': 1, 'No internet service': 2},\n",
       " 'StreamingMovies': {'No': 0, 'Yes': 1, 'No internet service': 2},\n",
       " 'Contract': {'Month-to-month': 0, 'One year': 1, 'Two year': 2},\n",
       " 'PaperlessBilling': {'Yes': 0, 'No': 1},\n",
       " 'PaymentMethod': {'Electronic check': 0,\n",
       "  'Mailed check': 1,\n",
       "  'Bank transfer (automatic)': 2,\n",
       "  'Credit card (automatic)': 3},\n",
       " 'Class': {'No': 0, 'Yes': 1},\n",
       " 'SeniorCitizen': {0: 0, 1: 1}}"
      ]
     },
     "execution_count": 13,
     "metadata": {},
     "output_type": "execute_result"
    }
   ],
   "source": [
    "cols = {}\n",
    "for c in nonNumericColumns.columns:\n",
    "    cols[c] = {val : index for index, val in enumerate(data[c].unique())}\n",
    "    data[c] = [cols[c][val] for val in data[c]]\n",
    "cols"
   ]
  },
  {
   "cell_type": "code",
   "execution_count": 14,
   "id": "e1a483ee-1c86-4eb3-b016-bd4a7d081b71",
   "metadata": {},
   "outputs": [],
   "source": [
    "def featureScaling():\n",
    "    for i in data.keys():\n",
    "        if i != 'Class':\n",
    "            m = max(data[i])\n",
    "            data[i] /= m\n",
    "    return\n",
    "featureScaling()"
   ]
  },
  {
   "cell_type": "code",
   "execution_count": 15,
   "id": "00e62cb5-bb69-4247-86b3-ee8fc6f5ce1d",
   "metadata": {
    "tags": []
   },
   "outputs": [],
   "source": [
    "trainData = data.sample(frac=0.8, random_state=0)"
   ]
  },
  {
   "cell_type": "code",
   "execution_count": 16,
   "id": "aedda05e-5bb0-468a-8305-65946712470e",
   "metadata": {
    "tags": []
   },
   "outputs": [],
   "source": [
    "testData = data.drop(trainData.index)"
   ]
  },
  {
   "cell_type": "markdown",
   "id": "8a70007f-9ae9-4b62-b0bf-f6a564b5526c",
   "metadata": {
    "jp-MarkdownHeadingCollapsed": true,
    "tags": []
   },
   "source": [
    "### Performance Parameters"
   ]
  },
  {
   "cell_type": "code",
   "execution_count": 17,
   "id": "222ece42-8a9a-47a6-a6bf-16ed10ad9a04",
   "metadata": {
    "tags": []
   },
   "outputs": [],
   "source": [
    "def accuracy(mat):\n",
    "    return (mat[0][0] + mat[1][1])/(mat[0][0] + mat[0][1] + mat[1][0] + mat[1][1])\n",
    "def precision(mat):\n",
    "    return (mat[0][0])/(mat[0][0] + mat[1][0])\n",
    "def recall(mat):\n",
    "    return (mat[0][0])/(mat[0][0] + mat[0][1])\n",
    "def F1Score(p,r):\n",
    "    return (2*(p*r))/(p + r)"
   ]
  },
  {
   "cell_type": "markdown",
   "id": "54b8d50c-6e8a-419e-8a6c-b695b9ccf832",
   "metadata": {},
   "source": [
    "### Logistic Regression"
   ]
  },
  {
   "cell_type": "code",
   "execution_count": 18,
   "id": "bbdcd8e8-ae05-4699-8af5-16e0a5acc78f",
   "metadata": {
    "tags": []
   },
   "outputs": [],
   "source": [
    "def costFunction(x,y,w,b):\n",
    "    m = len(x)\n",
    "    mat = np.matmul(x,w) + b\n",
    "    probs = 1 / (1 + np.exp((-1)*np.clip(mat, -500, 500))).astype(np.longdouble)\n",
    "    epsilon = 1e-15\n",
    "    probs = np.clip(probs, epsilon, 1 - epsilon)\n",
    "    J = -1/m * (y * np.log(probs) + (1 - y) * np.log(1 - probs))\n",
    "    return sum(J)"
   ]
  },
  {
   "cell_type": "code",
   "execution_count": 19,
   "id": "932ea57f-516a-4443-b408-8b18d63a2093",
   "metadata": {
    "tags": []
   },
   "outputs": [],
   "source": [
    "def gradient(x,y,w,b,learning_rate,iterations=10000,stoping_threshold=0.000000000001):\n",
    "    x = x.to_numpy()\n",
    "    y = y.to_numpy()\n",
    "    y = y.reshape(len(y), 1)\n",
    "    prev_cost = None\n",
    "    bol = True\n",
    "    for j in range(iterations):\n",
    "        crnt_cost = costFunction(x,y,w,b)\n",
    "        if prev_cost is not None and abs(prev_cost - crnt_cost) <= stoping_threshold:\n",
    "            break\n",
    "        m = len(x)\n",
    "        prev_cost = crnt_cost\n",
    "        mat = np.matmul(x,w) + b\n",
    "        u = 1/(1 + np.exp((-1)*np.clip(mat, -500, 500))).astype(np.longdouble)\n",
    "        derivative = np.subtract(u, y)\n",
    "        n = len(w) \n",
    "        for i in range(n):\n",
    "            derv = np.multiply(derivative,x[:,i].reshape(m,1))\n",
    "            w[i,0] = w[i,0] - learning_rate*sum(derv)\n",
    "        b = b - learning_rate*sum(derivative)\n",
    "    print(j)\n",
    "    return w, b"
   ]
  },
  {
   "cell_type": "code",
   "execution_count": 20,
   "id": "d2419478-e782-4a4b-aad7-7bc23d171c5e",
   "metadata": {
    "tags": []
   },
   "outputs": [],
   "source": [
    "y = trainData['Class']"
   ]
  },
  {
   "cell_type": "code",
   "execution_count": 21,
   "id": "53dd9fd7-64af-4f66-9071-6633d48838ef",
   "metadata": {
    "tags": []
   },
   "outputs": [],
   "source": [
    "x = trainData.drop(columns = ['Class'])"
   ]
  },
  {
   "cell_type": "code",
   "execution_count": 22,
   "id": "ecaae8d1-1637-4281-a06f-ee75be2f1277",
   "metadata": {
    "tags": []
   },
   "outputs": [],
   "source": [
    "w = np.ones(len(x.columns))\n",
    "w = w.reshape(len(x.columns),1)"
   ]
  },
  {
   "cell_type": "code",
   "execution_count": 23,
   "id": "fc596517-93a0-47ad-a227-7bd9882fff0a",
   "metadata": {
    "tags": []
   },
   "outputs": [
    {
     "name": "stdout",
     "output_type": "stream",
     "text": [
      "9999\n"
     ]
    }
   ],
   "source": [
    "b, b0 = gradient(x,y,w,1,0.0001)"
   ]
  },
  {
   "cell_type": "code",
   "execution_count": 24,
   "id": "fbbbbdcf-45ad-4745-bc48-dcf5178efb9d",
   "metadata": {},
   "outputs": [
    {
     "name": "stdout",
     "output_type": "stream",
     "text": [
      "[[-0.06590894]\n",
      " [ 0.20443265]\n",
      " [-0.04433875]\n",
      " [-0.20940883]\n",
      " [-3.89671074]\n",
      " [-0.9962877 ]\n",
      " [ 0.35360214]\n",
      " [ 0.97656503]\n",
      " [-0.94026788]\n",
      " [ 0.55875032]\n",
      " [-0.20444364]\n",
      " [-0.98595642]\n",
      " [ 0.19989975]\n",
      " [ 0.14602301]\n",
      " [-1.31840159]\n",
      " [-0.37433053]\n",
      " [-0.39793635]\n",
      " [ 1.50950269]\n",
      " [ 2.16895611]] [0.12152641]\n"
     ]
    }
   ],
   "source": [
    "print(b, b0)"
   ]
  },
  {
   "cell_type": "code",
   "execution_count": 25,
   "id": "184fb57f-e1fe-477f-a363-d985626b68bc",
   "metadata": {
    "tags": []
   },
   "outputs": [],
   "source": [
    "yTest = testData['Class']"
   ]
  },
  {
   "cell_type": "code",
   "execution_count": 26,
   "id": "7583b782-3f50-488b-939d-00375989abd5",
   "metadata": {
    "tags": []
   },
   "outputs": [],
   "source": [
    "xTest = testData.drop(columns = ['Class'])"
   ]
  },
  {
   "cell_type": "code",
   "execution_count": 27,
   "id": "daa5abac-381a-44ea-86e2-87e66e62eb39",
   "metadata": {
    "tags": []
   },
   "outputs": [],
   "source": [
    "b = b.ravel()"
   ]
  },
  {
   "cell_type": "code",
   "execution_count": 28,
   "id": "71f14141-d637-492f-bde5-ae79b12500a0",
   "metadata": {
    "tags": []
   },
   "outputs": [],
   "source": [
    "yOutput = []\n",
    "b = b.ravel()\n",
    "for d in xTest.iterrows():\n",
    "    out = sum(np.multiply(d[1].to_numpy(), b)) + b0[0]\n",
    "    out = 1/(1 + np.exp((-1)*np.clip(out, -500, 500)))\n",
    "    if out >= 0.5:\n",
    "        out = 1\n",
    "    else:\n",
    "        out = 0\n",
    "    yOutput.append((out, yTest[d[0]]))"
   ]
  },
  {
   "cell_type": "code",
   "execution_count": 29,
   "id": "f58104b9-2432-4c88-a8e6-2f5eb6a96f2b",
   "metadata": {
    "tags": []
   },
   "outputs": [],
   "source": [
    "def confusion():\n",
    "    confmat = np.array([0,0,0,0])\n",
    "    confmat = confmat.reshape(2,2)\n",
    "    for _, d in testData.iterrows():\n",
    "        y = d['Class']\n",
    "        x = d.drop('Class')\n",
    "        out = sum(np.multiply(x.to_numpy(), b)) + b0[0]\n",
    "        predy = 1/(1 + np.exp((-1)*np.clip(out, -500, 500)))\n",
    "        if predy >= 0.5:\n",
    "            predy = 1\n",
    "        else:\n",
    "            predy = 0\n",
    "        if y == predy:\n",
    "            if y == 0:\n",
    "                confmat[0][0] += 1\n",
    "            else:\n",
    "                confmat[1][1] += 1\n",
    "        else:\n",
    "            if y == 0:\n",
    "                confmat[1][0] += 1\n",
    "            else:\n",
    "                confmat[0][1] += 1\n",
    "    return confmat"
   ]
  },
  {
   "cell_type": "code",
   "execution_count": 30,
   "id": "165e0ef7-3229-4cfe-8048-44341ecbed49",
   "metadata": {
    "tags": []
   },
   "outputs": [
    {
     "data": {
      "text/plain": [
       "array([[947, 184],\n",
       "       [ 86, 189]])"
      ]
     },
     "execution_count": 30,
     "metadata": {},
     "output_type": "execute_result"
    }
   ],
   "source": [
    "mat = confusion()\n",
    "mat"
   ]
  },
  {
   "cell_type": "code",
   "execution_count": 31,
   "id": "0561fbc9-ecf9-45a0-a11c-a255107e3f4c",
   "metadata": {
    "tags": []
   },
   "outputs": [
    {
     "name": "stdout",
     "output_type": "stream",
     "text": [
      "0.8079658605974396 0.9167473378509197 0.8373121131741822 0.8752310536044362\n"
     ]
    }
   ],
   "source": [
    "acc = accuracy(mat)\n",
    "pre = precision(mat)\n",
    "rec = recall(mat)\n",
    "fscore = F1Score(pre, rec)\n",
    "print(acc, pre, rec, fscore)"
   ]
  },
  {
   "cell_type": "markdown",
   "id": "d96c95d3-b0f1-44f8-b6ec-7212674a4715",
   "metadata": {},
   "source": [
    "### Navie Bayes Classifier"
   ]
  },
  {
   "cell_type": "code",
   "execution_count": 32,
   "id": "f2bdfc2a-318a-4126-ab8d-2e99f0dff1e0",
   "metadata": {
    "tags": []
   },
   "outputs": [],
   "source": [
    "def probabilitiesClass(cls):\n",
    "    n = len(trainData[trainData['Class'] == cls])\n",
    "    d = {}\n",
    "    for key in nonNumericColumns.keys():\n",
    "        if key != 'Class':\n",
    "            dict = {}\n",
    "            for i in set(trainData[key]):\n",
    "                dict[i] = len(trainData[(trainData['Class'] == cls) & (trainData[key] == i)])/n\n",
    "            d[key] = dict\n",
    "    return d"
   ]
  },
  {
   "cell_type": "code",
   "execution_count": 33,
   "id": "a53355b1-ae2c-450e-a9c7-cf076ed13cbd",
   "metadata": {
    "tags": []
   },
   "outputs": [
    {
     "data": {
      "text/plain": [
       "Index(['tenure', 'MonthlyCharges', 'TotalCharges'], dtype='object')"
      ]
     },
     "execution_count": 33,
     "metadata": {},
     "output_type": "execute_result"
    }
   ],
   "source": [
    "numericColumns.columns"
   ]
  },
  {
   "cell_type": "code",
   "execution_count": 34,
   "id": "56e294f7-a687-4538-87a7-50c0e59fb5ec",
   "metadata": {
    "tags": []
   },
   "outputs": [],
   "source": [
    "def probabilitiesNormalDistribution(cls):\n",
    "    n = len(trainData[trainData['Class'] == cls])\n",
    "    d = {}\n",
    "    for key in numericColumns.keys():\n",
    "        dict = {}\n",
    "        dict['mean'] = trainData[key].mean()\n",
    "        dict['std'] = trainData[key].std()\n",
    "        d[key] = dict\n",
    "    return d"
   ]
  },
  {
   "cell_type": "code",
   "execution_count": 35,
   "id": "d887bfc6-ece2-4110-a979-a218b5da3228",
   "metadata": {
    "tags": []
   },
   "outputs": [
    {
     "data": {
      "text/plain": [
       "{'tenure': {'mean': 0.44896709720741, 'std': 0.3408913437310986},\n",
       " 'MonthlyCharges': {'mean': 0.5438186614777255, 'std': 0.25379919961158853},\n",
       " 'TotalCharges': {'mean': 0.26039639542669696, 'std': 0.259726672030239}}"
      ]
     },
     "execution_count": 35,
     "metadata": {},
     "output_type": "execute_result"
    }
   ],
   "source": [
    "probabilitiesNormalDistribution(1)"
   ]
  },
  {
   "cell_type": "code",
   "execution_count": 36,
   "id": "52d3d385-d383-4069-80b5-f76932ea0d44",
   "metadata": {
    "tags": []
   },
   "outputs": [
    {
     "data": {
      "text/plain": [
       "{0: {'tenure': {'mean': 0.44896709720741, 'std': 0.3408913437310986},\n",
       "  'MonthlyCharges': {'mean': 0.5438186614777255, 'std': 0.25379919961158853},\n",
       "  'TotalCharges': {'mean': 0.26039639542669696, 'std': 0.259726672030239}},\n",
       " 1: {'tenure': {'mean': 0.44896709720741, 'std': 0.3408913437310986},\n",
       "  'MonthlyCharges': {'mean': 0.5438186614777255, 'std': 0.25379919961158853},\n",
       "  'TotalCharges': {'mean': 0.26039639542669696, 'std': 0.259726672030239}}}"
      ]
     },
     "execution_count": 36,
     "metadata": {},
     "output_type": "execute_result"
    }
   ],
   "source": [
    "statics = {}\n",
    "for cls in set(data['Class']):\n",
    "    statics[cls] = probabilitiesNormalDistribution(cls)\n",
    "statics"
   ]
  },
  {
   "cell_type": "code",
   "execution_count": 37,
   "id": "35e7e705-a104-40a4-807d-441d133366dc",
   "metadata": {
    "tags": []
   },
   "outputs": [
    {
     "data": {
      "text/plain": [
       "{0: {'gender': {0.0: 0.49322033898305084, 1.0: 0.5067796610169492},\n",
       "  'Partner': {0.0: 0.524455205811138, 1.0: 0.475544794188862},\n",
       "  'Dependents': {0.0: 0.6537530266343826, 1.0: 0.34624697336561744},\n",
       "  'PhoneService': {0.0: 0.09927360774818401, 1.0: 0.9007263922518159},\n",
       "  'MultipleLines': {0.5: 0.49007263922518157,\n",
       "   0.0: 0.09927360774818401,\n",
       "   1.0: 0.41065375302663437},\n",
       "  'InternetService': {0.0: 0.375544794188862,\n",
       "   1.0: 0.2765133171912833,\n",
       "   0.5: 0.3479418886198547},\n",
       "  'OnlineSecurity': {0.0: 0.39322033898305087,\n",
       "   1.0: 0.2765133171912833,\n",
       "   0.5: 0.3302663438256659},\n",
       "  'OnlineBackup': {0.5: 0.35980629539951575,\n",
       "   1.0: 0.2765133171912833,\n",
       "   0.0: 0.36368038740920094},\n",
       "  'DeviceProtection': {0.0: 0.362227602905569,\n",
       "   1.0: 0.2765133171912833,\n",
       "   0.5: 0.3612590799031477},\n",
       "  'TechSupport': {0.0: 0.3891041162227603,\n",
       "   1.0: 0.2765133171912833,\n",
       "   0.5: 0.33438256658595644},\n",
       "  'StreamingTV': {0.0: 0.3593220338983051,\n",
       "   1.0: 0.2765133171912833,\n",
       "   0.5: 0.3641646489104116},\n",
       "  'StreamingMovies': {0.0: 0.3559322033898305,\n",
       "   1.0: 0.2765133171912833,\n",
       "   0.5: 0.3675544794188862},\n",
       "  'Contract': {0.0: 0.43365617433414044,\n",
       "   0.5: 0.24939467312348668,\n",
       "   1.0: 0.3169491525423729},\n",
       "  'PaperlessBilling': {0.0: 0.5368038740920097, 1.0: 0.4631961259079903},\n",
       "  'PaymentMethod': {0.0: 0.2476997578692494,\n",
       "   1.0: 0.24987893462469735,\n",
       "   0.6666666666666666: 0.24915254237288137,\n",
       "   0.3333333333333333: 0.2532687651331719},\n",
       "  'SeniorCitizen': {0.0: 0.8685230024213075, 1.0: 0.1314769975786925}},\n",
       " 1: {'gender': {0.0: 0.5073529411764706, 1.0: 0.49264705882352944},\n",
       "  'Partner': {0.0: 0.35561497326203206, 1.0: 0.6443850267379679},\n",
       "  'Dependents': {0.0: 0.8268716577540107, 1.0: 0.1731283422459893},\n",
       "  'PhoneService': {0.0: 0.09024064171122995, 1.0: 0.9097593582887701},\n",
       "  'MultipleLines': {0.5: 0.4612299465240642,\n",
       "   0.0: 0.09024064171122995,\n",
       "   1.0: 0.4485294117647059},\n",
       "  'InternetService': {0.0: 0.24331550802139038,\n",
       "   1.0: 0.06149732620320856,\n",
       "   0.5: 0.6951871657754011},\n",
       "  'OnlineSecurity': {0.0: 0.7874331550802139,\n",
       "   1.0: 0.06149732620320856,\n",
       "   0.5: 0.15106951871657753},\n",
       "  'OnlineBackup': {0.5: 0.6697860962566845,\n",
       "   1.0: 0.06149732620320856,\n",
       "   0.0: 0.26871657754010697},\n",
       "  'DeviceProtection': {0.0: 0.6504010695187166,\n",
       "   1.0: 0.06149732620320856,\n",
       "   0.5: 0.28810160427807485},\n",
       "  'TechSupport': {0.0: 0.7807486631016043,\n",
       "   1.0: 0.06149732620320856,\n",
       "   0.5: 0.15775401069518716},\n",
       "  'StreamingTV': {0.0: 0.5073529411764706,\n",
       "   1.0: 0.06149732620320856,\n",
       "   0.5: 0.43114973262032086},\n",
       "  'StreamingMovies': {0.0: 0.5073529411764706,\n",
       "   1.0: 0.06149732620320856,\n",
       "   0.5: 0.43114973262032086},\n",
       "  'Contract': {0.0: 0.8917112299465241,\n",
       "   0.5: 0.08489304812834225,\n",
       "   1.0: 0.02339572192513369},\n",
       "  'PaperlessBilling': {0.0: 0.7506684491978609, 1.0: 0.24933155080213903},\n",
       "  'PaymentMethod': {0.0: 0.5735294117647058,\n",
       "   1.0: 0.12366310160427807,\n",
       "   0.6666666666666666: 0.13836898395721925,\n",
       "   0.3333333333333333: 0.16443850267379678},\n",
       "  'SeniorCitizen': {0.0: 0.7399732620320856, 1.0: 0.2600267379679144}}}"
      ]
     },
     "execution_count": 37,
     "metadata": {},
     "output_type": "execute_result"
    }
   ],
   "source": [
    "prob = {}\n",
    "for cls in set(data['Class']):\n",
    "    prob[cls] = probabilitiesClass(cls)\n",
    "prob"
   ]
  },
  {
   "cell_type": "code",
   "execution_count": 38,
   "id": "13488b5c-fbb7-42df-a8ec-768bbac8b429",
   "metadata": {
    "tags": []
   },
   "outputs": [],
   "source": [
    "def NaiveBayesClassifier(X):\n",
    "    predcls = None\n",
    "    maxval = 0\n",
    "    for cls in prob.keys():\n",
    "        val = 1\n",
    "        for k in X.keys():\n",
    "            if k in numericColumns.keys():\n",
    "                exponent = -((X[k] - statics[cls][k]['mean']) ** 2) / (2 * statics[cls][k]['std'] ** 2)\n",
    "                val *= (1 / (np.sqrt(2 * np.pi) * statics[cls][k]['std'])) * np.exp(exponent)\n",
    "            else:\n",
    "                temp = prob[cls].get(k,{})\n",
    "                val *= temp.get(X[k],0)\n",
    "        if val > maxval:\n",
    "            maxval = val\n",
    "            predcls = cls\n",
    "    return predcls  "
   ]
  },
  {
   "cell_type": "code",
   "execution_count": 39,
   "id": "67f0d9d2-fdf0-4112-abb2-7fdaae92dfc2",
   "metadata": {
    "tags": []
   },
   "outputs": [],
   "source": [
    "def confusion():\n",
    "    classes = {}\n",
    "    clss = trainData[\"Class\"].unique()\n",
    "    i = 0\n",
    "    for clas in clss:\n",
    "        classes[clas] = i\n",
    "        i += 1\n",
    "    n = len(classes)\n",
    "    confmat = np.zeros(n*n)\n",
    "    confmat = confmat.reshape(n,n)\n",
    "    for _, d in testData.iterrows():\n",
    "        y = d['Class']\n",
    "        x = d.drop('Class')\n",
    "        predy = NaiveBayesClassifier(x)\n",
    "        confmat[classes[predy]][classes[y]] += 1\n",
    "    return confmat"
   ]
  },
  {
   "cell_type": "code",
   "execution_count": 40,
   "id": "05719f2d-1f5f-40e1-85d6-32a4f6727442",
   "metadata": {
    "tags": []
   },
   "outputs": [
    {
     "data": {
      "text/plain": [
       "array([[632.,  65.],\n",
       "       [401., 308.]])"
      ]
     },
     "execution_count": 40,
     "metadata": {},
     "output_type": "execute_result"
    }
   ],
   "source": [
    "mat = confusion() \n",
    "mat"
   ]
  },
  {
   "cell_type": "code",
   "execution_count": 41,
   "id": "fc631be8-2ba8-46c9-8663-1ada056c04f1",
   "metadata": {
    "tags": []
   },
   "outputs": [
    {
     "name": "stdout",
     "output_type": "stream",
     "text": [
      "0.6685633001422475 0.611810261374637 0.9067431850789096 0.730635838150289\n"
     ]
    }
   ],
   "source": [
    "acc = accuracy(mat)\n",
    "pre = precision(mat)\n",
    "rec = recall(mat)\n",
    "fscore = F1Score(pre, rec)\n",
    "print(acc, pre, rec, fscore)"
   ]
  },
  {
   "cell_type": "markdown",
   "id": "43280079-d4a6-45dc-a77c-d7638b8d923d",
   "metadata": {},
   "source": [
    "### ANN"
   ]
  },
  {
   "cell_type": "code",
   "execution_count": 42,
   "id": "0120969c-e7e1-42b0-b86b-6311b028206f",
   "metadata": {
    "tags": []
   },
   "outputs": [],
   "source": [
    "y = trainData['Class']"
   ]
  },
  {
   "cell_type": "code",
   "execution_count": 43,
   "id": "e26e4bde-c8ad-40b5-b74f-0de055cd48f7",
   "metadata": {
    "tags": []
   },
   "outputs": [],
   "source": [
    "x = trainData.drop(columns = ['Class'])"
   ]
  },
  {
   "cell_type": "code",
   "execution_count": 44,
   "id": "44744d84-acc0-4a4d-8372-b65062a82a60",
   "metadata": {
    "tags": []
   },
   "outputs": [],
   "source": [
    "def backpropagation(x,y,learning_rate,n1,n2,n3,iterations=1000):\n",
    "    w1 = np.ones(n1*n2)\n",
    "    w1 = w1.reshape(n1,n2)\n",
    "    w2 = np.ones(n2*n3)\n",
    "    w2 = w2.reshape(n2,n3)\n",
    "    for i in range(len(w1)):\n",
    "        for j in range(len(w1[0])):\n",
    "            w1[i][j] = 0.5\n",
    "    x = x.to_numpy()\n",
    "    y = y.to_numpy()\n",
    "    n = len(x)\n",
    "    for i in range(iterations):\n",
    "        for d in range(n):\n",
    "            #Forward Pass\n",
    "            hnet = np.matmul(x[d],w1)\n",
    "            hout = 1/(1 + np.exp((-1)*hnet)).astype(np.longdouble)\n",
    "            onet = np.matmul(hout,w2)\n",
    "            oout = 1/(1 + np.exp((-1)*onet)).astype(np.longdouble)\n",
    "            #Backward pass\n",
    "            delta_o = np.multiply(oout,np.multiply(np.subtract(1,oout),np.subtract(y[d],oout)))\n",
    "            inter = np.matmul(w2,delta_o)\n",
    "            delta_h = np.multiply(hout,np.multiply(np.subtract(1,hout),inter))\n",
    "            #Update weights\n",
    "            for i in range(len(w1)):\n",
    "                for j in range(len(w1[0])):\n",
    "                    delta = learning_rate*delta_h[j]*x[d][i]\n",
    "                    w1[i][j] += delta\n",
    "            for i in range(len(w2)):\n",
    "                for j in range(len(w2[0])):\n",
    "                    delta = learning_rate*delta_o[j]*hout[j]\n",
    "                    w2[i][j] += delta\n",
    "    return w1, w2"
   ]
  },
  {
   "cell_type": "code",
   "execution_count": 45,
   "id": "530cd620-8d51-482d-9f00-e337f7285b61",
   "metadata": {
    "tags": []
   },
   "outputs": [],
   "source": [
    "w1,w2 = backpropagation(x,y,0.1,19,7,1)"
   ]
  },
  {
   "cell_type": "code",
   "execution_count": 46,
   "id": "0ef2a4cd-2bc9-4de3-a569-de55d2e3858e",
   "metadata": {
    "tags": []
   },
   "outputs": [],
   "source": [
    "def confusion():\n",
    "    classes = {}\n",
    "    clss = trainData[\"Class\"].unique()\n",
    "    i = 0\n",
    "    for clas in clss:\n",
    "        classes[clas] = i\n",
    "        i += 1\n",
    "    n = len(classes)\n",
    "    confmat = np.zeros(n*n)\n",
    "    confmat = confmat.reshape(n,n)\n",
    "    for _, d in testData.iterrows():\n",
    "        y = d['Class']\n",
    "        x = d.drop('Class')\n",
    "        hnet = np.matmul(x,w1)\n",
    "        hout = 1/(1 + np.exp((-1)*hnet))\n",
    "        onet = np.matmul(hnet,w2)\n",
    "        oout = 1/(1 + np.exp((-1)*onet))\n",
    "        if oout > 0.5:\n",
    "            predy = 1\n",
    "        else:\n",
    "            predy = 0\n",
    "        confmat[classes[predy]][classes[y]] += 1\n",
    "    return confmat "
   ]
  },
  {
   "cell_type": "code",
   "execution_count": 47,
   "id": "3ad3f35a-5e55-4a65-b14d-c0cd91c5cc00",
   "metadata": {
    "tags": []
   },
   "outputs": [
    {
     "data": {
      "text/plain": [
       "array([[609.,  49.],\n",
       "       [424., 324.]])"
      ]
     },
     "execution_count": 47,
     "metadata": {},
     "output_type": "execute_result"
    }
   ],
   "source": [
    "mat = confusion()\n",
    "mat"
   ]
  },
  {
   "cell_type": "code",
   "execution_count": 48,
   "id": "fd6d6dbe-71b7-41b3-89cf-7256b3408415",
   "metadata": {
    "tags": []
   },
   "outputs": [
    {
     "name": "stdout",
     "output_type": "stream",
     "text": [
      "0.6635846372688478 0.5895450145208132 0.925531914893617 0.7202838557066824\n"
     ]
    }
   ],
   "source": [
    "acc = accuracy(mat)\n",
    "pre = precision(mat)\n",
    "rec = recall(mat)\n",
    "fscore = F1Score(pre, rec)\n",
    "print(acc, pre, rec, fscore)"
   ]
  },
  {
   "cell_type": "markdown",
   "id": "b3e4de91-eae0-4792-af2f-e65d40b9218a",
   "metadata": {},
   "source": [
    "### Conclusion"
   ]
  },
  {
   "cell_type": "markdown",
   "id": "263242fc-f595-450e-8691-be941236eda7",
   "metadata": {
    "tags": []
   },
   "source": [
    "Given the results from applying linear regression, the Naive Bayes Classifier, and an Artificial Neural Network (ANN), it appears that linear regression achieves the highest accuracy compared to the other models. As a result, it may be advisable to utilize the linear regression model for customer churn classification."
   ]
  },
  {
   "cell_type": "code",
   "execution_count": null,
   "id": "a2d7b269-99d2-4bfd-a9fc-a214de813e76",
   "metadata": {},
   "outputs": [],
   "source": []
  }
 ],
 "metadata": {
  "kernelspec": {
   "display_name": "Python 3",
   "language": "python",
   "name": "python3"
  },
  "language_info": {
   "codemirror_mode": {
    "name": "ipython",
    "version": 3
   },
   "file_extension": ".py",
   "mimetype": "text/x-python",
   "name": "python",
   "nbconvert_exporter": "python",
   "pygments_lexer": "ipython3",
   "version": "3.10.0"
  }
 },
 "nbformat": 4,
 "nbformat_minor": 5
}
